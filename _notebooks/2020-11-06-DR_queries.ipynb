{
 "cells": [
  {
   "cell_type": "markdown",
   "metadata": {},
   "source": [
    "# \"Donkey Republic queries\"\n",
    "> Below are the results of the queries asked by you, Jan :)\n",
    "\n",
    "\n",
    "- toc:true- branch: master\n",
    "- badges: true\n",
    "- comments: true\n",
    "- author: Enrique Quiroz\n",
    "- categories: [fastpages, jupyter]"
   ]
  },
  {
   "cell_type": "markdown",
   "metadata": {},
   "source": [
    "# 1. Task results\n",
    "In this first part of the notebook I will answer the questions proposed by Jan, assuming that the table called `rentals` has already been created and each of the columns are formatted correctly. In the second section, I execute the queries and you can see that there is more than one workaround to be done in order to execute the queries.\n",
    "\n",
    "- **Which user_id made the most rentals?**\n",
    "\n",
    "Considering only finished rentals, teh query is given by: \n",
    "```\n",
    "SELECT user_id, count(distinct id) as '# of rentals' FROM rentals \n",
    "GROUP BY user_id ORDER BY count(distinct id) DESC LIMIT 1;\n",
    "```\n",
    "- **How many rentals did the bike_id with the most rentals have?**\n",
    "\n",
    "The `bike_id` with the most rentals (effective rentals, i.e. finished) is obtained by:\n",
    "```\n",
    "SELECT bike_id, count(distinct id) as '# of rentals' FROM rentals WHERE state=\"finished\" \n",
    "GROUP BY bike_id ORDER BY count(distinct id) DESC LIMIT 1;\n",
    "```\n",
    "\n",
    "- **What %-share of the total number of rentals was cancelled?**\n",
    "\n",
    "The result is obtained just by averaging the column `state`: \n",
    "```\n",
    "SELECT AVG(state='cancelled')*100 FROM rentals;\n",
    "```\n",
    "\n",
    "- **What is the average duration of a non-cancelled rental?**\n",
    "\n",
    "To calculate the average duration, it is necessary to get the difference between the time the rental was finished and the time it was created, then multiply accordingly to obtain the result in days, hours, minutes, etc. The following query shows thee average duration of a non-cancelled rental in minutes: \n",
    "```\n",
    "SELECT  AVG(CAST((JULIANDAY(finished_at)-julianday(created_at))*24*60 as REAL)) as Duration\n",
    "from rentals WHERE state='finished';\n",
    "```"
   ]
  },
  {
   "cell_type": "markdown",
   "metadata": {},
   "source": [
    "# 2. Extended process\n",
    "\n",
    "In the following, I will describe and answer the queries proposed by Jan. I used SQLite, which might differ slightly from the SQL used at periscope.\n",
    "## Checking the data\n",
    "First, it is important to check the data, to see if it is consistent and if there are any odd values that might affect the queries in the future. Answers will be answered below.\n",
    "### Create table\n",
    "First I start by creating the table **rentals**, in case it has not been created yet. for that I use the query: \n",
    "```\n",
    "CREATE TABLE IF NOT EXISTS rentals ( id INTEGER PRIMARY KEY, created_at TEXT, finished_at TEXT, state TEXT, user_id INTEGER, bike_id INTEGER);\n",
    "```\n",
    "The fields `created_at` and `finished_at` on some SQL could be simply defined with the type `DATETIME` or `TIMESTAMP`, however, due to the formatting of the dates on the `.csv` file, they have to be initialized as `TEXT`, which will be formatted in a few steps below."
   ]
  },
  {
   "cell_type": "code",
   "execution_count": 7,
   "metadata": {},
   "outputs": [],
   "source": [
    "import pandas as pd\n",
    "from pathlib import Path\n",
    "Path('my_data.db').touch()\n",
    "import sqlite3\n",
    "conn = sqlite3.connect('my_data.db')\n",
    "c = conn.cursor()\n",
    "\n",
    "c.execute('''CREATE TABLE IF NOT EXISTS rentals \n",
    "( id INTEGER PRIMARY KEY,\n",
    "  created_at TEXT,\n",
    "  finished_at TEXT,\n",
    "  state TEXT,\n",
    "  user_id INTEGER,\n",
    "  bike_id INTEGER\n",
    ")''');"
   ]
  },
  {
   "cell_type": "markdown",
   "metadata": {},
   "source": [
    "### Import csv file into table\n",
    "It is time to populate the table, and a sample of this one is shown below"
   ]
  },
  {
   "cell_type": "code",
   "execution_count": 3,
   "metadata": {},
   "outputs": [
    {
     "data": {
      "text/html": [
       "<div>\n",
       "<style scoped>\n",
       "    .dataframe tbody tr th:only-of-type {\n",
       "        vertical-align: middle;\n",
       "    }\n",
       "\n",
       "    .dataframe tbody tr th {\n",
       "        vertical-align: top;\n",
       "    }\n",
       "\n",
       "    .dataframe thead th {\n",
       "        text-align: right;\n",
       "    }\n",
       "</style>\n",
       "<table border=\"1\" class=\"dataframe\">\n",
       "  <thead>\n",
       "    <tr style=\"text-align: right;\">\n",
       "      <th></th>\n",
       "      <th>id</th>\n",
       "      <th>created_at</th>\n",
       "      <th>finished_at</th>\n",
       "      <th>state</th>\n",
       "      <th>user_id</th>\n",
       "      <th>bike_id</th>\n",
       "    </tr>\n",
       "  </thead>\n",
       "  <tbody>\n",
       "    <tr>\n",
       "      <th>1857</th>\n",
       "      <td>2620040</td>\n",
       "      <td>2020-06-01 16:32:12</td>\n",
       "      <td>2020-06-01 19:14:21</td>\n",
       "      <td>finished</td>\n",
       "      <td>1404576</td>\n",
       "      <td>16689</td>\n",
       "    </tr>\n",
       "    <tr>\n",
       "      <th>3424</th>\n",
       "      <td>2629600</td>\n",
       "      <td>2020-06-04 9:38:23</td>\n",
       "      <td>2020-06-04 9:46:55</td>\n",
       "      <td>finished</td>\n",
       "      <td>1241684</td>\n",
       "      <td>20149</td>\n",
       "    </tr>\n",
       "    <tr>\n",
       "      <th>4206</th>\n",
       "      <td>2634387</td>\n",
       "      <td>2020-06-05 19:31:56</td>\n",
       "      <td>2020-06-05 19:54:46</td>\n",
       "      <td>finished</td>\n",
       "      <td>1397938</td>\n",
       "      <td>17030</td>\n",
       "    </tr>\n",
       "    <tr>\n",
       "      <th>905</th>\n",
       "      <td>2615095</td>\n",
       "      <td>2020-05-31 15:04:10</td>\n",
       "      <td>2020-05-31 16:46:44</td>\n",
       "      <td>finished</td>\n",
       "      <td>650934</td>\n",
       "      <td>9593</td>\n",
       "    </tr>\n",
       "    <tr>\n",
       "      <th>1465</th>\n",
       "      <td>2617682</td>\n",
       "      <td>2020-06-01 9:53:00</td>\n",
       "      <td>2020-06-01 18:26:08</td>\n",
       "      <td>finished</td>\n",
       "      <td>1372562</td>\n",
       "      <td>15842</td>\n",
       "    </tr>\n",
       "  </tbody>\n",
       "</table>\n",
       "</div>"
      ],
      "text/plain": [
       "           id           created_at          finished_at     state  user_id  \\\n",
       "1857  2620040  2020-06-01 16:32:12  2020-06-01 19:14:21  finished  1404576   \n",
       "3424  2629600   2020-06-04 9:38:23   2020-06-04 9:46:55  finished  1241684   \n",
       "4206  2634387  2020-06-05 19:31:56  2020-06-05 19:54:46  finished  1397938   \n",
       "905   2615095  2020-05-31 15:04:10  2020-05-31 16:46:44  finished   650934   \n",
       "1465  2617682   2020-06-01 9:53:00  2020-06-01 18:26:08  finished  1372562   \n",
       "\n",
       "      bike_id  \n",
       "1857    16689  \n",
       "3424    20149  \n",
       "4206    17030  \n",
       "905      9593  \n",
       "1465    15842  "
      ]
     },
     "execution_count": 3,
     "metadata": {},
     "output_type": "execute_result"
    }
   ],
   "source": [
    "import pandas as pd\n",
    "# load the data into a Pandas DataFrame\n",
    "rentals = pd.read_csv('/Users/enriqueqs/Downloads/donkey_rentals_assignment - rentals.csv')\n",
    "# write the data to a sqlite table\n",
    "rentals.to_sql('rentals', conn, if_exists='append', index = False)\n",
    "pd.read_sql_query('''SELECT * FROM rentals''', conn).sample(5)"
   ]
  },
  {
   "cell_type": "markdown",
   "metadata": {},
   "source": [
    "### Check for null values\n",
    "Checking if there is any row in the data with null values (i.e. checking if the data is corrupted"
   ]
  },
  {
   "cell_type": "code",
   "execution_count": 4,
   "metadata": {},
   "outputs": [
    {
     "data": {
      "text/html": [
       "<div>\n",
       "<style scoped>\n",
       "    .dataframe tbody tr th:only-of-type {\n",
       "        vertical-align: middle;\n",
       "    }\n",
       "\n",
       "    .dataframe tbody tr th {\n",
       "        vertical-align: top;\n",
       "    }\n",
       "\n",
       "    .dataframe thead th {\n",
       "        text-align: right;\n",
       "    }\n",
       "</style>\n",
       "<table border=\"1\" class=\"dataframe\">\n",
       "  <thead>\n",
       "    <tr style=\"text-align: right;\">\n",
       "      <th></th>\n",
       "      <th>id</th>\n",
       "      <th>created_at</th>\n",
       "      <th>finished_at</th>\n",
       "      <th>state</th>\n",
       "      <th>user_id</th>\n",
       "      <th>bike_id</th>\n",
       "    </tr>\n",
       "  </thead>\n",
       "  <tbody>\n",
       "  </tbody>\n",
       "</table>\n",
       "</div>"
      ],
      "text/plain": [
       "Empty DataFrame\n",
       "Columns: [id, created_at, finished_at, state, user_id, bike_id]\n",
       "Index: []"
      ]
     },
     "execution_count": 4,
     "metadata": {},
     "output_type": "execute_result"
    }
   ],
   "source": [
    "pd.read_sql_query('''SELECT *\n",
    "FROM rentals\n",
    "WHERE coalesce(id , created_at, finished_at, state, user_id, bike_id) IS NULL''', conn)"
   ]
  },
  {
   "cell_type": "markdown",
   "metadata": {},
   "source": [
    "### Formating timestamps\n",
    "The timestamps are in the format `2020-06-04 9:38:23` when they should be in the form `2020-06-04 09:38:23` (hour should be `09` and not only `9`). So, the text has to be formatted:"
   ]
  },
  {
   "cell_type": "code",
   "execution_count": 5,
   "metadata": {},
   "outputs": [
    {
     "data": {
      "text/html": [
       "<div>\n",
       "<style scoped>\n",
       "    .dataframe tbody tr th:only-of-type {\n",
       "        vertical-align: middle;\n",
       "    }\n",
       "\n",
       "    .dataframe tbody tr th {\n",
       "        vertical-align: top;\n",
       "    }\n",
       "\n",
       "    .dataframe thead th {\n",
       "        text-align: right;\n",
       "    }\n",
       "</style>\n",
       "<table border=\"1\" class=\"dataframe\">\n",
       "  <thead>\n",
       "    <tr style=\"text-align: right;\">\n",
       "      <th></th>\n",
       "      <th>id</th>\n",
       "      <th>created_at</th>\n",
       "      <th>finished_at</th>\n",
       "      <th>state</th>\n",
       "      <th>user_id</th>\n",
       "      <th>bike_id</th>\n",
       "    </tr>\n",
       "  </thead>\n",
       "  <tbody>\n",
       "    <tr>\n",
       "      <th>4914</th>\n",
       "      <td>2638869</td>\n",
       "      <td>2020-06-07 08:13:30</td>\n",
       "      <td>2020-06-07 09:11:09</td>\n",
       "      <td>finished</td>\n",
       "      <td>339682</td>\n",
       "      <td>8757</td>\n",
       "    </tr>\n",
       "    <tr>\n",
       "      <th>1894</th>\n",
       "      <td>2620262</td>\n",
       "      <td>2020-06-01 17:19:28</td>\n",
       "      <td>2020-06-02 03:01:10</td>\n",
       "      <td>cancelled</td>\n",
       "      <td>1239844</td>\n",
       "      <td>9612</td>\n",
       "    </tr>\n",
       "    <tr>\n",
       "      <th>3505</th>\n",
       "      <td>2630092</td>\n",
       "      <td>2020-06-04 12:52:15</td>\n",
       "      <td>2020-06-04 13:39:11</td>\n",
       "      <td>finished</td>\n",
       "      <td>615818</td>\n",
       "      <td>13897</td>\n",
       "    </tr>\n",
       "    <tr>\n",
       "      <th>2478</th>\n",
       "      <td>2623826</td>\n",
       "      <td>2020-06-02 16:00:02</td>\n",
       "      <td>2020-06-02 17:22:59</td>\n",
       "      <td>finished</td>\n",
       "      <td>1381080</td>\n",
       "      <td>16463</td>\n",
       "    </tr>\n",
       "    <tr>\n",
       "      <th>3517</th>\n",
       "      <td>2630164</td>\n",
       "      <td>2020-06-04 13:23:26</td>\n",
       "      <td>2020-06-04 14:42:37</td>\n",
       "      <td>finished</td>\n",
       "      <td>275402</td>\n",
       "      <td>24100</td>\n",
       "    </tr>\n",
       "  </tbody>\n",
       "</table>\n",
       "</div>"
      ],
      "text/plain": [
       "           id           created_at          finished_at      state  user_id  \\\n",
       "4914  2638869  2020-06-07 08:13:30  2020-06-07 09:11:09   finished   339682   \n",
       "1894  2620262  2020-06-01 17:19:28  2020-06-02 03:01:10  cancelled  1239844   \n",
       "3505  2630092  2020-06-04 12:52:15  2020-06-04 13:39:11   finished   615818   \n",
       "2478  2623826  2020-06-02 16:00:02  2020-06-02 17:22:59   finished  1381080   \n",
       "3517  2630164  2020-06-04 13:23:26  2020-06-04 14:42:37   finished   275402   \n",
       "\n",
       "      bike_id  \n",
       "4914     8757  \n",
       "1894     9612  \n",
       "3505    13897  \n",
       "2478    16463  \n",
       "3517    24100  "
      ]
     },
     "execution_count": 5,
     "metadata": {},
     "output_type": "execute_result"
    }
   ],
   "source": [
    "c.execute('''update rentals set created_at=case when substr(created_at,13,1) =':' then\n",
    "(substr(created_at,1,11) || '0' || substr(created_at,12,7) ) else created_at end''')\n",
    "c.execute('''update rentals set finished_at=case when substr(finished_at,13,1) =':' then\n",
    "(substr(finished_at,1,11) || '0' || substr(finished_at,12,7) ) else finished_at end''')\n",
    "pd.read_sql_query('''SELECT * FROM rentals''', conn).sample(5)"
   ]
  },
  {
   "cell_type": "markdown",
   "metadata": {},
   "source": [
    "And now, the dates can be defined as `TIMESTAMP`:"
   ]
  },
  {
   "cell_type": "code",
   "execution_count": 6,
   "metadata": {},
   "outputs": [
    {
     "data": {
      "text/html": [
       "<div>\n",
       "<style scoped>\n",
       "    .dataframe tbody tr th:only-of-type {\n",
       "        vertical-align: middle;\n",
       "    }\n",
       "\n",
       "    .dataframe tbody tr th {\n",
       "        vertical-align: top;\n",
       "    }\n",
       "\n",
       "    .dataframe thead th {\n",
       "        text-align: right;\n",
       "    }\n",
       "</style>\n",
       "<table border=\"1\" class=\"dataframe\">\n",
       "  <thead>\n",
       "    <tr style=\"text-align: right;\">\n",
       "      <th></th>\n",
       "      <th>id</th>\n",
       "      <th>created_at</th>\n",
       "      <th>finished_at</th>\n",
       "      <th>state</th>\n",
       "      <th>user_id</th>\n",
       "      <th>bike_id</th>\n",
       "    </tr>\n",
       "  </thead>\n",
       "  <tbody>\n",
       "    <tr>\n",
       "      <th>3027</th>\n",
       "      <td>2627200</td>\n",
       "      <td>2020-06-03 14:40:59</td>\n",
       "      <td>2020-06-03 14:53:11</td>\n",
       "      <td>finished</td>\n",
       "      <td>785770</td>\n",
       "      <td>24144</td>\n",
       "    </tr>\n",
       "    <tr>\n",
       "      <th>3643</th>\n",
       "      <td>2630932</td>\n",
       "      <td>2020-06-04 16:53:41</td>\n",
       "      <td>2020-06-04 16:59:02</td>\n",
       "      <td>finished</td>\n",
       "      <td>1399930</td>\n",
       "      <td>4652</td>\n",
       "    </tr>\n",
       "    <tr>\n",
       "      <th>1872</th>\n",
       "      <td>2620130</td>\n",
       "      <td>2020-06-01 16:49:53</td>\n",
       "      <td>2020-06-01 17:15:34</td>\n",
       "      <td>finished</td>\n",
       "      <td>831640</td>\n",
       "      <td>8768</td>\n",
       "    </tr>\n",
       "    <tr>\n",
       "      <th>978</th>\n",
       "      <td>2615336</td>\n",
       "      <td>2020-05-31 15:43:34</td>\n",
       "      <td>2020-05-31 15:46:19</td>\n",
       "      <td>cancelled</td>\n",
       "      <td>420704</td>\n",
       "      <td>7535</td>\n",
       "    </tr>\n",
       "    <tr>\n",
       "      <th>2619</th>\n",
       "      <td>2624692</td>\n",
       "      <td>2020-06-02 18:59:39</td>\n",
       "      <td>2020-06-02 19:32:13</td>\n",
       "      <td>finished</td>\n",
       "      <td>1375662</td>\n",
       "      <td>5124</td>\n",
       "    </tr>\n",
       "  </tbody>\n",
       "</table>\n",
       "</div>"
      ],
      "text/plain": [
       "           id           created_at          finished_at      state  user_id  \\\n",
       "3027  2627200  2020-06-03 14:40:59  2020-06-03 14:53:11   finished   785770   \n",
       "3643  2630932  2020-06-04 16:53:41  2020-06-04 16:59:02   finished  1399930   \n",
       "1872  2620130  2020-06-01 16:49:53  2020-06-01 17:15:34   finished   831640   \n",
       "978   2615336  2020-05-31 15:43:34  2020-05-31 15:46:19  cancelled   420704   \n",
       "2619  2624692  2020-06-02 18:59:39  2020-06-02 19:32:13   finished  1375662   \n",
       "\n",
       "      bike_id  \n",
       "3027    24144  \n",
       "3643     4652  \n",
       "1872     8768  \n",
       "978      7535  \n",
       "2619     5124  "
      ]
     },
     "execution_count": 6,
     "metadata": {},
     "output_type": "execute_result"
    }
   ],
   "source": [
    "c.execute('''ALTER TABLE rentals RENAME TO _rentals_old''')\n",
    "\n",
    "c.execute('''CREATE TABLE rentals\n",
    "( id INTEGER PRIMARY KEY,\n",
    "  created_at TIMESTAMP,\n",
    "  finished_at TIMESTAMP,\n",
    "  state TEXT,\n",
    "  user_id INTEGER,\n",
    "  bike_id INTEGER\n",
    ")''')\n",
    "\n",
    "c.execute('''INSERT INTO rentals (id, created_at, finished_at, state, user_id, bike_id)\n",
    "  SELECT id, created_at, finished_at, state, user_id, bike_id\n",
    "  FROM _rentals_old''')\n",
    "c.execute('''DROP TABLE _rentals_old''')\n",
    "\n",
    "pd.read_sql_query('''SELECT * FROM rentals''', conn).sample(5)"
   ]
  },
  {
   "cell_type": "markdown",
   "metadata": {},
   "source": [
    "## Time to answer the questions\n",
    "\n",
    "### Which `user_id` made the most rentals?\n",
    "The query used for this purpose is: \n",
    "```\n",
    "SELECT user_id, count(distinct id) as '# of rentals' FROM rentals \n",
    "GROUP BY user_id ORDER BY count(distinct id) DESC LIMIT 2\n",
    "```"
   ]
  },
  {
   "cell_type": "code",
   "execution_count": 30,
   "metadata": {},
   "outputs": [
    {
     "data": {
      "text/html": [
       "<div>\n",
       "<style scoped>\n",
       "    .dataframe tbody tr th:only-of-type {\n",
       "        vertical-align: middle;\n",
       "    }\n",
       "\n",
       "    .dataframe tbody tr th {\n",
       "        vertical-align: top;\n",
       "    }\n",
       "\n",
       "    .dataframe thead th {\n",
       "        text-align: right;\n",
       "    }\n",
       "</style>\n",
       "<table border=\"1\" class=\"dataframe\">\n",
       "  <thead>\n",
       "    <tr style=\"text-align: right;\">\n",
       "      <th></th>\n",
       "      <th># of rentals</th>\n",
       "    </tr>\n",
       "    <tr>\n",
       "      <th>user_id</th>\n",
       "      <th></th>\n",
       "    </tr>\n",
       "  </thead>\n",
       "  <tbody>\n",
       "    <tr>\n",
       "      <th>1402314</th>\n",
       "      <td>13</td>\n",
       "    </tr>\n",
       "    <tr>\n",
       "      <th>1405150</th>\n",
       "      <td>10</td>\n",
       "    </tr>\n",
       "    <tr>\n",
       "      <th>1408906</th>\n",
       "      <td>9</td>\n",
       "    </tr>\n",
       "  </tbody>\n",
       "</table>\n",
       "</div>"
      ],
      "text/plain": [
       "         # of rentals\n",
       "user_id              \n",
       "1402314            13\n",
       "1405150            10\n",
       "1408906             9"
      ]
     },
     "execution_count": 30,
     "metadata": {},
     "output_type": "execute_result"
    }
   ],
   "source": [
    "pd.read_sql_query('''SELECT user_id, count(distinct id) as '# of rentals' FROM rentals \n",
    "GROUP BY user_id ORDER BY count(distinct id) DESC LIMIT 2''', conn, index_col='user_id')"
   ]
  },
  {
   "cell_type": "markdown",
   "metadata": {},
   "source": [
    "However, the latter result takes into account the canceled rentals. Which one can regard as not _true_ rentals. The result below shows the top 2 user_id with the most rentals by executing the query:\n",
    "```\n",
    "SELECT user_id, count(distinct id) as '# of rentals' FROM rentals WHERE state=\"finished\"\n",
    "GROUP BY user_id ORDER BY count(distinct id) DESC LIMIT 2 \n",
    "```"
   ]
  },
  {
   "cell_type": "code",
   "execution_count": 29,
   "metadata": {},
   "outputs": [
    {
     "data": {
      "text/html": [
       "<div>\n",
       "<style scoped>\n",
       "    .dataframe tbody tr th:only-of-type {\n",
       "        vertical-align: middle;\n",
       "    }\n",
       "\n",
       "    .dataframe tbody tr th {\n",
       "        vertical-align: top;\n",
       "    }\n",
       "\n",
       "    .dataframe thead th {\n",
       "        text-align: right;\n",
       "    }\n",
       "</style>\n",
       "<table border=\"1\" class=\"dataframe\">\n",
       "  <thead>\n",
       "    <tr style=\"text-align: right;\">\n",
       "      <th></th>\n",
       "      <th># of rentals</th>\n",
       "    </tr>\n",
       "    <tr>\n",
       "      <th>user_id</th>\n",
       "      <th></th>\n",
       "    </tr>\n",
       "  </thead>\n",
       "  <tbody>\n",
       "    <tr>\n",
       "      <th>1402314</th>\n",
       "      <td>12</td>\n",
       "    </tr>\n",
       "    <tr>\n",
       "      <th>1385446</th>\n",
       "      <td>7</td>\n",
       "    </tr>\n",
       "    <tr>\n",
       "      <th>1395354</th>\n",
       "      <td>6</td>\n",
       "    </tr>\n",
       "  </tbody>\n",
       "</table>\n",
       "</div>"
      ],
      "text/plain": [
       "         # of rentals\n",
       "user_id              \n",
       "1402314            12\n",
       "1385446             7\n",
       "1395354             6"
      ]
     },
     "execution_count": 29,
     "metadata": {},
     "output_type": "execute_result"
    }
   ],
   "source": [
    "pd.read_sql_query('''SELECT user_id, count(distinct id) as '# of rentals' FROM rentals WHERE state=\"finished\"\n",
    "GROUP BY user_id ORDER BY count(distinct id) DESC LIMIT 2''', conn, index_col='user_id')"
   ]
  },
  {
   "cell_type": "markdown",
   "metadata": {},
   "source": [
    "## `bike_id` with more rentals\n",
    "This result is excluding cancelled rentals and the query is:\n",
    "```\n",
    "SELECT bike_id, count(distinct id) as '# of rentals' FROM rentals WHERE state=\"finished\" \n",
    "GROUP BY bike_id ORDER BY count(distinct id) DESC LIMIT 3;\n",
    "```"
   ]
  },
  {
   "cell_type": "code",
   "execution_count": 28,
   "metadata": {},
   "outputs": [
    {
     "data": {
      "text/html": [
       "<div>\n",
       "<style scoped>\n",
       "    .dataframe tbody tr th:only-of-type {\n",
       "        vertical-align: middle;\n",
       "    }\n",
       "\n",
       "    .dataframe tbody tr th {\n",
       "        vertical-align: top;\n",
       "    }\n",
       "\n",
       "    .dataframe thead th {\n",
       "        text-align: right;\n",
       "    }\n",
       "</style>\n",
       "<table border=\"1\" class=\"dataframe\">\n",
       "  <thead>\n",
       "    <tr style=\"text-align: right;\">\n",
       "      <th></th>\n",
       "      <th># of rentals</th>\n",
       "    </tr>\n",
       "    <tr>\n",
       "      <th>bike_id</th>\n",
       "      <th></th>\n",
       "    </tr>\n",
       "  </thead>\n",
       "  <tbody>\n",
       "    <tr>\n",
       "      <th>15762</th>\n",
       "      <td>10</td>\n",
       "    </tr>\n",
       "    <tr>\n",
       "      <th>15751</th>\n",
       "      <td>9</td>\n",
       "    </tr>\n",
       "    <tr>\n",
       "      <th>15458</th>\n",
       "      <td>7</td>\n",
       "    </tr>\n",
       "  </tbody>\n",
       "</table>\n",
       "</div>"
      ],
      "text/plain": [
       "         # of rentals\n",
       "bike_id              \n",
       "15762              10\n",
       "15751               9\n",
       "15458               7"
      ]
     },
     "execution_count": 28,
     "metadata": {},
     "output_type": "execute_result"
    }
   ],
   "source": [
    "pd.read_sql_query('''SELECT bike_id, count(distinct id) as '# of rentals' FROM rentals WHERE state=\"finished\" \n",
    "GROUP BY bike_id ORDER BY count(distinct id) DESC LIMIT 3''', conn,index_col='bike_id')"
   ]
  },
  {
   "cell_type": "markdown",
   "metadata": {},
   "source": [
    "## What %-share of the total number of rentals was cancelled?\n",
    "The query to answer this is:\n",
    "```\n",
    "SELECT AVG(state='cancelled')*100 FROM rentals;\n",
    "```"
   ]
  },
  {
   "cell_type": "code",
   "execution_count": 40,
   "metadata": {},
   "outputs": [
    {
     "name": "stdout",
     "output_type": "stream",
     "text": [
      "The percentage share of the total number of rentals that was cancelled is: 11.12%\n"
     ]
    }
   ],
   "source": [
    "print('The percentage share of the total number of rentals that was cancelled is: {}%'.format(\n",
    "    c.execute('''SELECT AVG(state='cancelled')*100 FROM rentals''').fetchall()[0][0]))"
   ]
  },
  {
   "cell_type": "markdown",
   "metadata": {},
   "source": [
    "## Average duration of a non-cancelled rental\n",
    "Below it is shown the average duration of a non-cancelled rental in minutes, by executing the query:\n",
    "```\n",
    "SELECT  AVG(CAST((JULIANDAY(finished_at)-julianday(created_at))*24*60 as REAL)) as Duration\n",
    "from rentals WHERE state='finished';\n",
    "```"
   ]
  },
  {
   "cell_type": "code",
   "execution_count": 42,
   "metadata": {},
   "outputs": [
    {
     "data": {
      "text/html": [
       "<div>\n",
       "<style scoped>\n",
       "    .dataframe tbody tr th:only-of-type {\n",
       "        vertical-align: middle;\n",
       "    }\n",
       "\n",
       "    .dataframe tbody tr th {\n",
       "        vertical-align: top;\n",
       "    }\n",
       "\n",
       "    .dataframe thead th {\n",
       "        text-align: right;\n",
       "    }\n",
       "</style>\n",
       "<table border=\"1\" class=\"dataframe\">\n",
       "  <thead>\n",
       "    <tr style=\"text-align: right;\">\n",
       "      <th></th>\n",
       "      <th>Duration</th>\n",
       "    </tr>\n",
       "  </thead>\n",
       "  <tbody>\n",
       "    <tr>\n",
       "      <th>0</th>\n",
       "      <td>173.280318</td>\n",
       "    </tr>\n",
       "  </tbody>\n",
       "</table>\n",
       "</div>"
      ],
      "text/plain": [
       "     Duration\n",
       "0  173.280318"
      ]
     },
     "execution_count": 42,
     "metadata": {},
     "output_type": "execute_result"
    }
   ],
   "source": [
    "pd.read_sql_query('''SELECT  AVG(CAST((JULIANDAY(finished_at)-julianday(created_at))*24*60 as REAL)) as Duration\n",
    "from rentals WHERE state='finished' ''', conn)"
   ]
  }
 ],
 "metadata": {
  "kernelspec": {
   "display_name": "Python 3",
   "language": "python",
   "name": "python3"
  },
  "language_info": {
   "codemirror_mode": {
    "name": "ipython",
    "version": 3
   },
   "file_extension": ".py",
   "mimetype": "text/x-python",
   "name": "python",
   "nbconvert_exporter": "python",
   "pygments_lexer": "ipython3",
   "version": "3.8.3"
  }
 },
 "nbformat": 4,
 "nbformat_minor": 4
}
